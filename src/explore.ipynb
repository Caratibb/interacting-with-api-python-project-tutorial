{
    "cells": [
        {
            "cell_type": "code",
            "execution_count": null,
            "metadata": {},
            "outputs": [],
            "source": []
        },
        {
            "cell_type": "markdown",
            "metadata": {},
            "source": [
                "# Explore here"
            ]
        },
        {
            "cell_type": "code",
            "execution_count": 1,
            "metadata": {},
            "outputs": [],
            "source": [
                "CLIENT_ID=\"e0b0ecd677c84e38912e2f6448fbe3c1\"\n",
                "CLIENT_SECRET=\"8b71b592126b448d8bad03e45fd1bbe0\"\n"
            ]
        },
        {
            "cell_type": "code",
            "execution_count": 2,
            "metadata": {},
            "outputs": [
                {
                    "name": "stderr",
                    "output_type": "stream",
                    "text": [
                        "Python-dotenv could not parse statement starting at line 3\n",
                        "Python-dotenv could not parse statement starting at line 5\n"
                    ]
                }
            ],
            "source": [
                "import os\n",
                "from dotenv import load_dotenv\n",
                "load_dotenv()\n",
                "\n",
                "client_id = os.environ.get('CLIENT_ID')\n",
                "client_secret = os.environ.get('CLIENT_SECRET')"
            ]
        },
        {
            "cell_type": "code",
            "execution_count": 3,
            "metadata": {},
            "outputs": [
                {
                    "name": "stdout",
                    "output_type": "stream",
                    "text": [
                        "Pandas version: 2.2.3, NumPy version: 2.1.1\n"
                    ]
                }
            ],
            "source": [
                "import pandas as pd\n",
                "import numpy as np\n",
                "\n",
                "print(f\"Pandas version: {pd.__version__}, NumPy version: {np.__version__}\")"
            ]
        },
        {
            "cell_type": "code",
            "execution_count": 12,
            "metadata": {},
            "outputs": [
                {
                    "name": "stdout",
                    "output_type": "stream",
                    "text": [
                        "                                          Track Name  Popularity  \\\n",
                        "0                                 Carol Of The Bells          65   \n",
                        "1                     Shatter Me Featuring Lzzy Hale          60   \n",
                        "2                                   Roundtable Rival          60   \n",
                        "3                                        Crystallize          53   \n",
                        "4                              Eye Of The Untold Her          54   \n",
                        "5                                        Underground          56   \n",
                        "6                                        Radioactive          54   \n",
                        "7                                          The Arena          48   \n",
                        "8                 Survive [Feat. Walk Off The Earth]          53   \n",
                        "9  7 Years (Acoustic) - Recorded at Spotify Studi...          53   \n",
                        "\n",
                        "   Duration (min)  Duration (sec)  \n",
                        "0        2.768217          46.093  \n",
                        "1        4.679983          40.799  \n",
                        "2        3.387983          23.279  \n",
                        "3        4.313333          18.800  \n",
                        "4        3.679550          40.773  \n",
                        "5        4.371917          22.315  \n",
                        "6        3.774000          46.440  \n",
                        "7        3.871333          52.280  \n",
                        "8        3.285100          17.106  \n",
                        "9        2.457117          27.427  \n"
                    ]
                }
            ],
            "source": [
                "import spotipy\n",
                "from spotipy.oauth2 import SpotifyOAuth\n",
                "import pandas as pd\n",
                "\n",
                "# Define your credentials\n",
                "SPOTIPY_CLIENT_ID = \"e0b0ecd677c84e38912e2f6448fbe3c1\"\n",
                "SPOTIPY_CLIENT_SECRET = \"8b71b592126b448d8bad03e45fd1bbe0\"\n",
                "SPOTIPY_REDIRECT_URI = \"http://localhost/\"\n",
                "\n",
                "# Initialize Spotipy with Spotify credentials\n",
                "# Authentication with Spotify using Spotipy's OAuth method\n",
                "sp = spotipy.Spotify(auth_manager=SpotifyOAuth(\n",
                "    client_id=SPOTIPY_CLIENT_ID,\n",
                "    client_secret=SPOTIPY_CLIENT_SECRET,\n",
                "    redirect_uri=SPOTIPY_REDIRECT_URI,\n",
                "    scope=\"user-library-read\"\n",
                "))\n",
                "\n",
                "# Fetch top tracks of an artist by artist_id\n",
                "artist_id = \"378dH6EszOLFShpRzAQkVM\"\n",
                "response = sp.artist_top_tracks(artist_id)\n",
                "\n",
                "try:\n",
                "    # Fetch the artist's top tracks\n",
                "    top_tracks = sp.artist_top_tracks(artist_id)\n",
                "\n",
                "    # Create a list of dictionaries to store song data\n",
                "    track_data = []\n",
                "    for track in top_tracks['tracks']:\n",
                "        track_data.append({\n",
                "            'Track Name': track['name'],\n",
                "            'Popularity': track['popularity'],\n",
                "            'Duration (min)': (track['duration_ms'] / (1000 * 60)) % 60,\n",
                "            'Duration (sec)': (track['duration_ms'] / 1000) % 60\n",
                "        })\n",
                "\n",
                "    # Convert the list of dictionaries into a Pandas DataFrame\n",
                "    df = pd.DataFrame(track_data)\n",
                "\n",
                "    # Display the DataFrame\n",
                "    print(df)\n",
                "\n",
                "except spotipy.exceptions.SpotifyException as e:\n",
                "    print(f\"An error occurred: {e}\")"
            ]
        },
        {
            "cell_type": "code",
            "execution_count": 13,
            "metadata": {},
            "outputs": [],
            "source": [
                "import spotipy\n",
                "from spotipy.oauth2 import SpotifyClientCredentials\n",
                "\n",
                "con = spotipy.Spotify(auth_manager = SpotifyClientCredentials(client_id = client_id,\n",
                "                                                              client_secret = client_secret))"
            ]
        },
        {
            "cell_type": "code",
            "execution_count": 15,
            "metadata": {},
            "outputs": [],
            "source": [
                "artist_id = \"378dH6EszOLFShpRzAQkVM\" \n",
                "response = sp.artist_top_tracks(artist_id)\n"
            ]
        },
        {
            "cell_type": "code",
            "execution_count": 16,
            "metadata": {},
            "outputs": [],
            "source": [
                "if response:\n",
                "  # We keep the \"tracks\" object of the answer\n",
                "  tracks = response[\"tracks\"]\n",
                "  # We select, for each song, the data we are interested in and discard the rest\n",
                "  tracks = [{k: (v/(1000*60))%60 if k == \"duration_ms\" else v for k, v in track.items() if k in [\"name\", \"popularity\", \"duration_ms\"]} for track in tracks]"
            ]
        },
        {
            "cell_type": "code",
            "execution_count": 17,
            "metadata": {},
            "outputs": [
                {
                    "name": "stdout",
                    "output_type": "stream",
                    "text": [
                        "   duration_ms                                               name  popularity\n",
                        "7     3.871333                                          The Arena          48\n",
                        "3     4.313333                                        Crystallize          53\n",
                        "9     2.457117  7 Years (Acoustic) - Recorded at Spotify Studi...          53\n"
                    ]
                }
            ],
            "source": [
                "import pandas as pd\n",
                "\n",
                "tracks_df = pd.DataFrame.from_records(tracks)\n",
                "tracks_df.sort_values([\"popularity\"], inplace = True)\n",
                "\n",
                "print(tracks_df.head(3))"
            ]
        },
        {
            "cell_type": "code",
            "execution_count": 19,
            "metadata": {},
            "outputs": [
                {
                    "data": {
                        "image/png": "[encoded data removed]",
                        "text/plain": [
                            "<Figure size 640x480 with 1 Axes>"
                        ]
                    },
                    "metadata": {},
                    "output_type": "display_data"
                }
            ],
            "source": [
                "import seaborn as sns\n",
                "\n",
                "scatter_plot = sns.scatterplot(data = tracks_df, x = \"popularity\", y = \"duration_ms\")\n",
                "fig = scatter_plot.get_figure()\n",
                "fig.savefig(\"scatter_plot.png\")"
            ]
        }
    ],
    "metadata": {
        "kernelspec": {
            "display_name": "Python 3.8.13 64-bit ('3.8.13')",
            "language": "python",
            "name": "python3"
        },
        "language_info": {
            "codemirror_mode": {
                "name": "ipython",
                "version": 3
            },
            "file_extension": ".py",
            "mimetype": "text/x-python",
            "name": "python",
            "nbconvert_exporter": "python",
            "pygments_lexer": "ipython3",
            "version": "3.11.4"
        },
        "orig_nbformat": 4,
        "vscode": {
            "interpreter": {
                "hash": "110cc1dee26208153f2972f08a2ad52b6a56238dc66d48e87fb757ef2996db56"
            }
        }
    },
    "nbformat": 4,
    "nbformat_minor": 2
}
